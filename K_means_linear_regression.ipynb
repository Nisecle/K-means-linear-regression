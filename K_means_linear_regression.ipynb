{
 "cells": [
  {
   "cell_type": "markdown",
   "metadata": {
    "id": "YvbkHQQkSzdi"
   },
   "source": [
    "# Preprocessing"
   ]
  },
  {
   "cell_type": "code",
   "execution_count": 15,
   "metadata": {
    "id": "pK-Wu4hfz97-"
   },
   "outputs": [],
   "source": [
    "import pandas as pd\n",
    "import numpy as np \n",
    "import matplotlib.pyplot as plt\n",
    "from sklearn.model_selection import train_test_split\n",
    "from sklearn.cluster import KMeans\n",
    "from sklearn.metrics import silhouette_score\n",
    "import statistics\n",
    "from scipy import stats"
   ]
  },
  {
   "cell_type": "code",
   "execution_count": 16,
   "metadata": {
    "id": "e5f5zgrD0DHJ",
    "scrolled": true
   },
   "outputs": [
    {
     "data": {
      "text/html": [
       "<div>\n",
       "<style scoped>\n",
       "    .dataframe tbody tr th:only-of-type {\n",
       "        vertical-align: middle;\n",
       "    }\n",
       "\n",
       "    .dataframe tbody tr th {\n",
       "        vertical-align: top;\n",
       "    }\n",
       "\n",
       "    .dataframe thead th {\n",
       "        text-align: right;\n",
       "    }\n",
       "</style>\n",
       "<table border=\"1\" class=\"dataframe\">\n",
       "  <thead>\n",
       "    <tr style=\"text-align: right;\">\n",
       "      <th></th>\n",
       "      <th>Serial No.</th>\n",
       "      <th>GRE Score</th>\n",
       "      <th>TOEFL Score</th>\n",
       "      <th>University Rating</th>\n",
       "      <th>SOP</th>\n",
       "      <th>LOR</th>\n",
       "      <th>CGPA</th>\n",
       "      <th>Research</th>\n",
       "      <th>Chance of Admit</th>\n",
       "    </tr>\n",
       "  </thead>\n",
       "  <tbody>\n",
       "    <tr>\n",
       "      <th>0</th>\n",
       "      <td>1</td>\n",
       "      <td>337</td>\n",
       "      <td>118</td>\n",
       "      <td>4</td>\n",
       "      <td>4.5</td>\n",
       "      <td>4.5</td>\n",
       "      <td>9.65</td>\n",
       "      <td>1</td>\n",
       "      <td>0.92</td>\n",
       "    </tr>\n",
       "    <tr>\n",
       "      <th>1</th>\n",
       "      <td>2</td>\n",
       "      <td>324</td>\n",
       "      <td>107</td>\n",
       "      <td>4</td>\n",
       "      <td>4.0</td>\n",
       "      <td>4.5</td>\n",
       "      <td>8.87</td>\n",
       "      <td>1</td>\n",
       "      <td>0.76</td>\n",
       "    </tr>\n",
       "    <tr>\n",
       "      <th>2</th>\n",
       "      <td>3</td>\n",
       "      <td>316</td>\n",
       "      <td>104</td>\n",
       "      <td>3</td>\n",
       "      <td>3.0</td>\n",
       "      <td>3.5</td>\n",
       "      <td>8.00</td>\n",
       "      <td>1</td>\n",
       "      <td>0.72</td>\n",
       "    </tr>\n",
       "    <tr>\n",
       "      <th>3</th>\n",
       "      <td>4</td>\n",
       "      <td>322</td>\n",
       "      <td>110</td>\n",
       "      <td>3</td>\n",
       "      <td>3.5</td>\n",
       "      <td>2.5</td>\n",
       "      <td>8.67</td>\n",
       "      <td>1</td>\n",
       "      <td>0.80</td>\n",
       "    </tr>\n",
       "    <tr>\n",
       "      <th>4</th>\n",
       "      <td>5</td>\n",
       "      <td>314</td>\n",
       "      <td>103</td>\n",
       "      <td>2</td>\n",
       "      <td>2.0</td>\n",
       "      <td>3.0</td>\n",
       "      <td>8.21</td>\n",
       "      <td>0</td>\n",
       "      <td>0.65</td>\n",
       "    </tr>\n",
       "    <tr>\n",
       "      <th>...</th>\n",
       "      <td>...</td>\n",
       "      <td>...</td>\n",
       "      <td>...</td>\n",
       "      <td>...</td>\n",
       "      <td>...</td>\n",
       "      <td>...</td>\n",
       "      <td>...</td>\n",
       "      <td>...</td>\n",
       "      <td>...</td>\n",
       "    </tr>\n",
       "    <tr>\n",
       "      <th>395</th>\n",
       "      <td>396</td>\n",
       "      <td>324</td>\n",
       "      <td>110</td>\n",
       "      <td>3</td>\n",
       "      <td>3.5</td>\n",
       "      <td>3.5</td>\n",
       "      <td>9.04</td>\n",
       "      <td>1</td>\n",
       "      <td>0.82</td>\n",
       "    </tr>\n",
       "    <tr>\n",
       "      <th>396</th>\n",
       "      <td>397</td>\n",
       "      <td>325</td>\n",
       "      <td>107</td>\n",
       "      <td>3</td>\n",
       "      <td>3.0</td>\n",
       "      <td>3.5</td>\n",
       "      <td>9.11</td>\n",
       "      <td>1</td>\n",
       "      <td>0.84</td>\n",
       "    </tr>\n",
       "    <tr>\n",
       "      <th>397</th>\n",
       "      <td>398</td>\n",
       "      <td>330</td>\n",
       "      <td>116</td>\n",
       "      <td>4</td>\n",
       "      <td>5.0</td>\n",
       "      <td>4.5</td>\n",
       "      <td>9.45</td>\n",
       "      <td>1</td>\n",
       "      <td>0.91</td>\n",
       "    </tr>\n",
       "    <tr>\n",
       "      <th>398</th>\n",
       "      <td>399</td>\n",
       "      <td>312</td>\n",
       "      <td>103</td>\n",
       "      <td>3</td>\n",
       "      <td>3.5</td>\n",
       "      <td>4.0</td>\n",
       "      <td>8.78</td>\n",
       "      <td>0</td>\n",
       "      <td>0.67</td>\n",
       "    </tr>\n",
       "    <tr>\n",
       "      <th>399</th>\n",
       "      <td>400</td>\n",
       "      <td>333</td>\n",
       "      <td>117</td>\n",
       "      <td>4</td>\n",
       "      <td>5.0</td>\n",
       "      <td>4.0</td>\n",
       "      <td>9.66</td>\n",
       "      <td>1</td>\n",
       "      <td>0.95</td>\n",
       "    </tr>\n",
       "  </tbody>\n",
       "</table>\n",
       "<p>400 rows × 9 columns</p>\n",
       "</div>"
      ],
      "text/plain": [
       "     Serial No.  GRE Score  TOEFL Score  University Rating  SOP  LOR   CGPA  \\\n",
       "0             1        337          118                  4  4.5   4.5  9.65   \n",
       "1             2        324          107                  4  4.0   4.5  8.87   \n",
       "2             3        316          104                  3  3.0   3.5  8.00   \n",
       "3             4        322          110                  3  3.5   2.5  8.67   \n",
       "4             5        314          103                  2  2.0   3.0  8.21   \n",
       "..          ...        ...          ...                ...  ...   ...   ...   \n",
       "395         396        324          110                  3  3.5   3.5  9.04   \n",
       "396         397        325          107                  3  3.0   3.5  9.11   \n",
       "397         398        330          116                  4  5.0   4.5  9.45   \n",
       "398         399        312          103                  3  3.5   4.0  8.78   \n",
       "399         400        333          117                  4  5.0   4.0  9.66   \n",
       "\n",
       "     Research  Chance of Admit   \n",
       "0           1              0.92  \n",
       "1           1              0.76  \n",
       "2           1              0.72  \n",
       "3           1              0.80  \n",
       "4           0              0.65  \n",
       "..        ...               ...  \n",
       "395         1              0.82  \n",
       "396         1              0.84  \n",
       "397         1              0.91  \n",
       "398         0              0.67  \n",
       "399         1              0.95  \n",
       "\n",
       "[400 rows x 9 columns]"
      ]
     },
     "execution_count": 16,
     "metadata": {},
     "output_type": "execute_result"
    }
   ],
   "source": [
    "df = pd.read_csv(\"Admission_Predict.csv\")\n",
    "df"
   ]
  },
  {
   "cell_type": "code",
   "execution_count": 17,
   "metadata": {
    "id": "eI7SRu_kp1nx"
   },
   "outputs": [],
   "source": [
    "X = df.iloc[0:400, 0:8] # Independant features\n",
    "Y = df.iloc[0:400, 8] # Target variable"
   ]
  },
  {
   "cell_type": "markdown",
   "metadata": {
    "id": "q5xnt6Wfp1ny"
   },
   "source": [
    "## Splitting data into training and testing sets"
   ]
  },
  {
   "cell_type": "code",
   "execution_count": 18,
   "metadata": {
    "id": "JPZ5RlYQp1ny"
   },
   "outputs": [],
   "source": [
    "(X_train, X_test, Y_train, Y_test) = train_test_split(X, Y, test_size = 0.3, random_state = 100)\n",
    "Y_train = Y_train.to_numpy().reshape((Y_train.shape[0],1))\n",
    "Y_test = Y_test.to_numpy().reshape((Y_test.shape[0],1))\n"
   ]
  },
  {
   "cell_type": "markdown",
   "metadata": {
    "id": "eY7EqYsZp1nz"
   },
   "source": [
    "# Linear Regression"
   ]
  },
  {
   "cell_type": "code",
   "execution_count": 19,
   "metadata": {
    "id": "hu8lbAnVp1nz"
   },
   "outputs": [],
   "source": [
    "def find_optimal_parameters(x, y):\n",
    "    \"\"\" Finding Closed form solution using w = (X^T X)^-1 (X^T) (y)\n",
    "    \"\"\"\n",
    "    #add a column of 1s to include bias in the calculation\n",
    "    x = np.hstack((np.ones((x.shape[0], 1)), x)) \n",
    "\n",
    "\n",
    "    p1 = np.linalg.pinv((np.transpose(x) @ x))\n",
    "    p2 = np.transpose(x) @ y\n",
    "    w = p1 @ p2\n",
    "    return w"
   ]
  },
  {
   "cell_type": "markdown",
   "metadata": {
    "id": "Hef0J8wPp1nz"
   },
   "source": [
    "### Train linear regression model using training data"
   ]
  },
  {
   "cell_type": "code",
   "execution_count": 20,
   "metadata": {
    "id": "b2tMQBXYp1n0"
   },
   "outputs": [],
   "source": [
    "def get_pred_Y(trained_w, X_pred):\n",
    "    \"\"\" Return predicted Y\n",
    "    Args:\n",
    "    - trained_w (ndarray (Shape: (D+1, 1))): training weights\n",
    "    - X_pred (ndarray (Shape: (N, D))): predicted values\n",
    "    \n",
    "    Output:\n",
    "    - pred_Y (ndarray (Shape: (N, 1))): \n",
    "    \"\"\"\n",
    "    pad_Y     = np.hstack((np.ones((X_pred.shape[0], 1)), X_pred))\n",
    "    pred_Y    = np.transpose(np.transpose(trained_w) @ np.transpose(pad_Y))\n",
    "    \n",
    "    return pred_Y"
   ]
  },
  {
   "cell_type": "code",
   "execution_count": 21,
   "metadata": {
    "id": "NvJEIbPFp1n0"
   },
   "outputs": [],
   "source": [
    "def get_mae(Y_truth, Y_pred):\n",
    "    \"\"\" Return Mean absolute error\n",
    "    Args:\n",
    "    - Y_truth (ndarray (Shape: (N, 1)))\n",
    "    - Y_pred (ndarray (Shape: (N, 1)))\n",
    "    \n",
    "    Output:\n",
    "    - MSE (ndarray (Shape: (1,))).\n",
    "    \"\"\"\n",
    "    \n",
    "    \n",
    "    if np.shape(Y_truth) != np.shape(Y_pred):\n",
    "        return -1\n",
    "    \n",
    "    Y_mean = sum(abs(Y_truth - Y_pred))\n",
    "    mae    = Y_mean / Y_truth.shape[0]\n",
    "    return mae\n",
    "\n",
    "def get_mse(Y_truth, Y_pred):\n",
    "    \"\"\" Return Mean squared error\n",
    "    Args:\n",
    "    - Y_truth (ndarray (Shape: (N, 1)))\n",
    "    - Y_pred (ndarray (Shape: (N, 1))):\n",
    "    \n",
    "    Output:\n",
    "    - MSE (ndarray (Shape: (1,))).\n",
    "    \"\"\"\n",
    "\n",
    "    if np.shape(Y_truth) != np.shape(Y_pred):\n",
    "        return -1\n",
    "    \n",
    "    Y_mean = sum((Y_truth - Y_pred)**2)\n",
    "    mse    = Y_mean / Y_truth.shape[0]\n",
    "    return mse"
   ]
  },
  {
   "cell_type": "markdown",
   "metadata": {
    "id": "ihQlEbDzp1n1"
   },
   "source": [
    "### Get predictions on train data"
   ]
  },
  {
   "cell_type": "code",
   "execution_count": 22,
   "metadata": {
    "id": "ycC9grI0rKkn"
   },
   "outputs": [
    {
     "data": {
      "text/plain": [
       "array([[-1.24508024e+00],\n",
       "       [ 1.74603344e-04],\n",
       "       [ 1.09496275e-03],\n",
       "       [ 4.24602435e-03],\n",
       "       [ 9.48357452e-03],\n",
       "       [-6.36173836e-03],\n",
       "       [ 2.51184521e-02],\n",
       "       [ 1.18743394e-01],\n",
       "       [ 2.36731783e-02]])"
      ]
     },
     "execution_count": 22,
     "metadata": {},
     "output_type": "execute_result"
    }
   ],
   "source": [
    "w_optimal = find_optimal_parameters(X_train, Y_train)\n",
    "w_optimal"
   ]
  },
  {
   "cell_type": "code",
   "execution_count": 23,
   "metadata": {
    "id": "jntfL_s7p1n1"
   },
   "outputs": [
    {
     "name": "stdout",
     "output_type": "stream",
     "text": [
      "train error (MSE):  [0.00376967]\n",
      "train error (MAE):  [0.0446701]\n"
     ]
    }
   ],
   "source": [
    "pred_Y = get_pred_Y(w_optimal, X_train)\n",
    "print('train error (MSE): ', get_mse(Y_train, pred_Y))\n",
    "print('train error (MAE): ', get_mae(Y_train, pred_Y))"
   ]
  },
  {
   "cell_type": "markdown",
   "metadata": {
    "id": "PrQ5lClCp1n1"
   },
   "source": [
    "### Get predictions and performance on test data"
   ]
  },
  {
   "cell_type": "code",
   "execution_count": 24,
   "metadata": {
    "id": "Od4gUr8jp1n1"
   },
   "outputs": [
    {
     "name": "stdout",
     "output_type": "stream",
     "text": [
      "test error (MSE)::  [0.00361941]\n",
      "test error (MAE):  [0.04688106]\n"
     ]
    }
   ],
   "source": [
    "pred_Y    = get_pred_Y(w_optimal, X_test)\n",
    "print('test error (MSE):: ', get_mse(Y_test, pred_Y))\n",
    "print('test error (MAE): ', get_mae(Y_test, pred_Y))"
   ]
  },
  {
   "cell_type": "markdown",
   "metadata": {
    "id": "0H6Djcju85JN"
   },
   "source": [
    "# K Means"
   ]
  },
  {
   "cell_type": "markdown",
   "metadata": {
    "id": "VsVtfDC12Rh_"
   },
   "source": [
    "## Silouette Coefficient"
   ]
  },
  {
   "cell_type": "code",
   "execution_count": 25,
   "metadata": {
    "id": "MBUC-6gR2Vh7"
   },
   "outputs": [
    {
     "name": "stdout",
     "output_type": "stream",
     "text": [
      "For n_clusters = 2 The average silhouette_score is : 0.6071096314863135\n",
      "For n_clusters = 3 The average silhouette_score is : 0.5531574352681752\n",
      "For n_clusters = 4 The average silhouette_score is : 0.5151391666241323\n",
      "For n_clusters = 5 The average silhouette_score is : 0.48464943440830055\n",
      "For n_clusters = 6 The average silhouette_score is : 0.45670717596148136\n",
      "For n_clusters = 7 The average silhouette_score is : 0.43409307822104387\n",
      "For n_clusters = 8 The average silhouette_score is : 0.41165177333474423\n",
      "For n_clusters = 9 The average silhouette_score is : 0.38942632231084867\n",
      "For n_clusters = 10 The average silhouette_score is : 0.3760333777270851\n"
     ]
    }
   ],
   "source": [
    "n_silhouette = [2, 3, 4, 5, 6, 7, 8, 9, 10]\n",
    "\n",
    "kmeans_kwargs= {\n",
    "    \"init\":\"k-means++\",\n",
    "    \"n_init\":30,\n",
    "    \"max_iter\":250,\n",
    "    \"random_state\":2\n",
    "}\n",
    "\n",
    "\n",
    "#code obtained from the sklearn site provided\n",
    "for n_clusters in n_silhouette:\n",
    "    clusterer = KMeans(n_clusters = n_clusters, random_state = 100)\n",
    "    cluster_labels = clusterer.fit_predict(X)\n",
    "    silhouette_avg = silhouette_score(X, cluster_labels)\n",
    "    print(\n",
    "        \"For n_clusters =\",\n",
    "        n_clusters,\n",
    "        \"The average silhouette_score is :\",\n",
    "        silhouette_avg,\n",
    "    )"
   ]
  },
  {
   "cell_type": "code",
   "execution_count": 26,
   "metadata": {
    "id": "6BvShiJG88NZ"
   },
   "outputs": [],
   "source": [
    "kmeans = KMeans(\n",
    "    init=\"k-means++\",\n",
    "    n_clusters = 2, #Found above (greatest silhouette score)\n",
    "    n_init=30,\n",
    "    max_iter=250,\n",
    "    random_state=2\n",
    ")\n",
    "\n",
    "kmeans.fit(X_train)\n",
    "\n",
    "training_df_clustered = X_train\n",
    "\n",
    "train_cluster = kmeans.fit_predict(X_train)\n",
    "\n",
    "# Add each row to a specific cluster\n",
    "training_df_clustered['cluster'] = train_cluster\n",
    "\n",
    "number_cluster = 2\n",
    "\n",
    "X_train_clusters_df = []\n",
    "for i in range(number_cluster):\n",
    "    X_train_clusters_df.append(training_df_clustered[training_df_clustered['cluster']==i])"
   ]
  },
  {
   "cell_type": "markdown",
   "metadata": {
    "id": "BVbD_sYQ88qB"
   },
   "source": [
    "# Building Linear Regression for our clusters\n",
    "## Using sklearn linear regression"
   ]
  },
  {
   "cell_type": "code",
   "execution_count": 27,
   "metadata": {
    "id": "BMwMKQEpLm2F",
    "scrolled": true
   },
   "outputs": [],
   "source": [
    "from sklearn.linear_model import LinearRegression\n",
    "\n",
    "\n",
    "# Set the number of clusters based on the silhouette coefficient analysis found above\n",
    "number_cluster = 2\n",
    "obj_cluster = []\n",
    "\n",
    "\n",
    "\n",
    "for i in range(number_cluster):\n",
    "    linear_regression = LinearRegression()\n",
    "    \n",
    "    #Get the specific X_train values according to their predicted clusters.\n",
    "    X_clustered_data = np.delete(np.array(X_train_clusters_df[i]), -1, axis = 1)\n",
    "    #Get the specific Y_train values according to their predicted clusters.\n",
    "    Y_data = np.empty([np.shape(X_train_clusters_df[i])[0], 1])\n",
    "    \n",
    "    counter = 0\n",
    "    \n",
    "    for j in X_train_clusters_df[i]['Serial No.']:\n",
    "        Y_data[counter] = df.iloc[j-1][-1]\n",
    "        counter+= 1\n",
    "    Y_clustered_data = np.array(Y_data)\n",
    "    Y_clustered_data.reshape((Y_clustered_data.shape[0],1))\n",
    "    \n",
    "    obj_cluster.append(linear_regression.fit(X_clustered_data, Y_clustered_data)) \n",
    "    "
   ]
  },
  {
   "cell_type": "code",
   "execution_count": 28,
   "metadata": {
    "id": "iOF-lX3dL97-"
   },
   "outputs": [],
   "source": [
    "def predict_value(x_test, kmeans, cluster_linear):\n",
    "    \"\"\"\n",
    "    Input: \n",
    "    x_test is the test value that you wish to predict on.\n",
    "    kmeans is the kmeans object that you have finalized to predict on the test dataset.\n",
    "    cluster_linear is the list of fitted models on different clusters.\n",
    "\n",
    "    Return:\n",
    "    linear_pred - linear_pred will be type list with prediction values\n",
    "    clusters - clusters_pred will be the prediction of clusters using k means.\n",
    "\n",
    "    \"\"\"\n",
    "    linear_pred = []\n",
    "    clusters = []\n",
    "    \n",
    "    #linear_pred = cluster_linear.predict(np.array(x_test))\n",
    "    clusters = kmeans.predict(x_test)\n",
    "    \n",
    "    testing_df_cluster = x_test.copy()\n",
    "    testing_df_cluster['cluster'] = clusters\n",
    "    testing_df_cluster = np.array(testing_df_cluster)\n",
    "    \n",
    "    #predicting based on clusters\n",
    "    for i in range(np.shape(testing_df_cluster)[0]):\n",
    "        if testing_df_cluster[i][-1] == 1:\n",
    "            linear_pred.append(cluster_linear[1].predict(testing_df_cluster[i][:-1].reshape(1,-1)))\n",
    "        else:\n",
    "            linear_pred.append(cluster_linear[0].predict(testing_df_cluster[i][:-1].reshape(1,-1)))\n",
    "            \n",
    "    linear_pred = np.vstack(linear_pred)\n",
    "    \n",
    "    return linear_pred, clusters"
   ]
  },
  {
   "cell_type": "markdown",
   "metadata": {
    "id": "y-KOf0ncBvkN"
   },
   "source": [
    "## Checking testing error"
   ]
  },
  {
   "cell_type": "code",
   "execution_count": 29,
   "metadata": {
    "id": "TAYyCLx8Bcwb"
   },
   "outputs": [],
   "source": [
    "#Applying the clustering-based linear regression to the test set.\n",
    "(linear_predicted, clusters_predicted) = predict_value(X_test, kmeans, obj_cluster)"
   ]
  },
  {
   "cell_type": "code",
   "execution_count": 30,
   "metadata": {
    "id": "7hTtpG7j91JL"
   },
   "outputs": [
    {
     "name": "stdout",
     "output_type": "stream",
     "text": [
      "test error (MSE)::  [0.0033131]\n",
      "test error (MAE):  [0.04268426]\n"
     ]
    }
   ],
   "source": [
    "print('test error (MSE):: ', get_mse(Y_test, linear_predicted))\n",
    "print('test error (MAE): ', get_mae(Y_test, linear_predicted))"
   ]
  },
  {
   "cell_type": "code",
   "execution_count": null,
   "metadata": {},
   "outputs": [],
   "source": []
  }
 ],
 "metadata": {
  "colab": {
   "collapsed_sections": [],
   "provenance": []
  },
  "kernelspec": {
   "display_name": "Python 3 (ipykernel)",
   "language": "python",
   "name": "python3"
  },
  "language_info": {
   "codemirror_mode": {
    "name": "ipython",
    "version": 3
   },
   "file_extension": ".py",
   "mimetype": "text/x-python",
   "name": "python",
   "nbconvert_exporter": "python",
   "pygments_lexer": "ipython3",
   "version": "3.8.10"
  }
 },
 "nbformat": 4,
 "nbformat_minor": 1
}
